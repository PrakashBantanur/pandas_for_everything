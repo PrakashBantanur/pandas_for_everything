{
 "cells": [
  {
   "cell_type": "markdown",
   "metadata": {},
   "source": [
    "## Creating your pown data"
   ]
  },
  {
   "cell_type": "code",
   "execution_count": 1,
   "metadata": {},
   "outputs": [],
   "source": [
    "import pandas as pd"
   ]
  },
  {
   "cell_type": "code",
   "execution_count": 3,
   "metadata": {},
   "outputs": [
    {
     "data": {
      "text/plain": [
       "0    banana\n",
       "1        67\n",
       "dtype: object"
      ]
     },
     "execution_count": 3,
     "metadata": {},
     "output_type": "execute_result"
    }
   ],
   "source": [
    "s = pd.Series(['banana', 67])\n",
    "s"
   ]
  },
  {
   "cell_type": "markdown",
   "metadata": {},
   "source": [
    "#### Manually passing index"
   ]
  },
  {
   "cell_type": "code",
   "execution_count": 4,
   "metadata": {},
   "outputs": [
    {
     "data": {
      "text/plain": [
       "Name    Akash\n",
       "Age        25\n",
       "dtype: object"
      ]
     },
     "execution_count": 4,
     "metadata": {},
     "output_type": "execute_result"
    }
   ],
   "source": [
    "s = pd.Series(['Akash', 25], index=['Name','Age'])\n",
    "s"
   ]
  },
  {
   "cell_type": "markdown",
   "metadata": {},
   "source": [
    "#### Creating DataFrame"
   ]
  },
  {
   "cell_type": "code",
   "execution_count": 6,
   "metadata": {},
   "outputs": [
    {
     "name": "stdout",
     "output_type": "stream",
     "text": [
      "    Name   Occupation  Born  WorkPlace\n",
      "0  Akash  Civil Engg.  1997  Lingasuru\n",
      "1   Anup       Doctor  2000  Bengaluru\n"
     ]
    }
   ],
   "source": [
    "family = pd.DataFrame({\n",
    "    'Name' : ['Akash', 'Anup'],\n",
    "    'Occupation' : ['Civil Engg.', 'Doctor'],\n",
    "    'Born' : ['1997', '2000'],\n",
    "    'WorkPlace': ['Lingasuru', 'Bengaluru']\n",
    "})\n",
    "print(family)"
   ]
  },
  {
   "cell_type": "markdown",
   "metadata": {},
   "source": [
    "#### In oder"
   ]
  },
  {
   "cell_type": "code",
   "execution_count": 11,
   "metadata": {},
   "outputs": [
    {
     "name": "stdout",
     "output_type": "stream",
     "text": [
      "        Born   Name   Occupation  WorkPlace\n",
      "Child1  1997  Akash  Civil Engg.  Lingasuru\n",
      "Child2  2000   Anup       Doctor  Bengaluru\n"
     ]
    }
   ],
   "source": [
    "family = pd.DataFrame(\n",
    "    data = {\n",
    "    'Name' : ['Akash', 'Anup'],\n",
    "    'Occupation' : ['Civil Engg.', 'Doctor'],\n",
    "    'Born' : ['1997', '2000'],\n",
    "    'WorkPlace': ['Lingasuru', 'Bengaluru'],\n",
    "    'Age': [25, 22]},\n",
    "    index = ['Child1', 'Child2'],\n",
    "    columns = ['Born', 'Name', 'Occupation', 'WorkPlace' ]\n",
    ")\n",
    "print(family)"
   ]
  },
  {
   "cell_type": "markdown",
   "metadata": {},
   "source": [
    "## The Series"
   ]
  },
  {
   "cell_type": "code",
   "execution_count": 12,
   "metadata": {},
   "outputs": [
    {
     "name": "stdout",
     "output_type": "stream",
     "text": [
      "        Born   Name   Occupation  WorkPlace  Age\n",
      "Child1  1997  Akash  Civil Engg.  Lingasuru   25\n",
      "Child2  2000   Anup       Doctor  Bengaluru   22\n"
     ]
    }
   ],
   "source": [
    "family = pd.DataFrame(\n",
    "    data = {\n",
    "    'Name' : ['Akash', 'Anup'],\n",
    "    'Occupation' : ['Civil Engg.', 'Doctor'],\n",
    "    'Born' : ['1997', '2000'],\n",
    "    'WorkPlace': ['Lingasuru', 'Bengaluru'],\n",
    "    'Age': [25, 22]},\n",
    "    index = ['Child1', 'Child2'],\n",
    "    columns = ['Born', 'Name', 'Occupation', 'WorkPlace', 'Age' ]\n",
    ")\n",
    "print(family)"
   ]
  },
  {
   "cell_type": "code",
   "execution_count": 16,
   "metadata": {},
   "outputs": [
    {
     "name": "stdout",
     "output_type": "stream",
     "text": [
      "Born               2000\n",
      "Name               Anup\n",
      "Occupation       Doctor\n",
      "WorkPlace     Bengaluru\n",
      "Age                  22\n",
      "Name: Child2, dtype: object\n",
      "--------------------\n",
      "<class 'pandas.core.series.Series'>\n"
     ]
    }
   ],
   "source": [
    "second_row = family.loc['Child2']\n",
    "print(second_row)\n",
    "print('--------------------')\n",
    "print(type(second_row))"
   ]
  },
  {
   "cell_type": "code",
   "execution_count": 18,
   "metadata": {},
   "outputs": [
    {
     "name": "stdout",
     "output_type": "stream",
     "text": [
      "Index(['Born', 'Name', 'Occupation', 'WorkPlace', 'Age'], dtype='object')\n"
     ]
    }
   ],
   "source": [
    "print(second_row.index)"
   ]
  },
  {
   "cell_type": "code",
   "execution_count": 19,
   "metadata": {},
   "outputs": [
    {
     "name": "stdout",
     "output_type": "stream",
     "text": [
      "['2000' 'Anup' 'Doctor' 'Bengaluru' 22]\n"
     ]
    }
   ],
   "source": [
    "print(second_row.values)"
   ]
  },
  {
   "cell_type": "code",
   "execution_count": 20,
   "metadata": {},
   "outputs": [
    {
     "name": "stdout",
     "output_type": "stream",
     "text": [
      "Index(['Born', 'Name', 'Occupation', 'WorkPlace', 'Age'], dtype='object')\n"
     ]
    }
   ],
   "source": [
    "print(second_row.keys())"
   ]
  },
  {
   "cell_type": "code",
   "execution_count": 21,
   "metadata": {},
   "outputs": [
    {
     "name": "stdout",
     "output_type": "stream",
     "text": [
      "Born\n"
     ]
    }
   ],
   "source": [
    "print(second_row.index[0])"
   ]
  },
  {
   "cell_type": "code",
   "execution_count": 22,
   "metadata": {},
   "outputs": [
    {
     "name": "stdout",
     "output_type": "stream",
     "text": [
      "Born\n"
     ]
    }
   ],
   "source": [
    "print(second_row.keys()[0])"
   ]
  },
  {
   "cell_type": "code",
   "execution_count": 24,
   "metadata": {},
   "outputs": [
    {
     "data": {
      "text/plain": [
       "Child1    25\n",
       "Child2    22\n",
       "Name: Age, dtype: int64"
      ]
     },
     "execution_count": 24,
     "metadata": {},
     "output_type": "execute_result"
    }
   ],
   "source": [
    "ages = family['Age']\n",
    "ages"
   ]
  },
  {
   "cell_type": "code",
   "execution_count": 25,
   "metadata": {},
   "outputs": [
    {
     "data": {
      "text/plain": [
       "23.5"
      ]
     },
     "execution_count": 25,
     "metadata": {},
     "output_type": "execute_result"
    }
   ],
   "source": [
    "ages.mean()"
   ]
  },
  {
   "cell_type": "code",
   "execution_count": 26,
   "metadata": {},
   "outputs": [
    {
     "data": {
      "text/plain": [
       "22"
      ]
     },
     "execution_count": 26,
     "metadata": {},
     "output_type": "execute_result"
    }
   ],
   "source": [
    "ages.min()"
   ]
  },
  {
   "cell_type": "code",
   "execution_count": 27,
   "metadata": {},
   "outputs": [
    {
     "data": {
      "text/plain": [
       "2.1213203435596424"
      ]
     },
     "execution_count": 27,
     "metadata": {},
     "output_type": "execute_result"
    }
   ],
   "source": [
    "ages.std()"
   ]
  },
  {
   "cell_type": "markdown",
   "metadata": {},
   "source": [
    "### Boolean Subsetting"
   ]
  },
  {
   "cell_type": "code",
   "execution_count": 28,
   "metadata": {},
   "outputs": [
    {
     "data": {
      "text/plain": [
       "'C:\\\\Users\\\\PSB\\\\MachineLearnings\\\\Pandas_for_Everything'"
      ]
     },
     "execution_count": 28,
     "metadata": {},
     "output_type": "execute_result"
    }
   ],
   "source": [
    "pwd # Duplicate\"scientists.csv\" from main file then move it current directary"
   ]
  },
  {
   "cell_type": "code",
   "execution_count": 29,
   "metadata": {},
   "outputs": [],
   "source": [
    "scientists = pd.read_csv('scientists.csv')"
   ]
  },
  {
   "cell_type": "code",
   "execution_count": 32,
   "metadata": {},
   "outputs": [
    {
     "name": "stdout",
     "output_type": "stream",
     "text": [
      "<class 'pandas.core.frame.DataFrame'>\n",
      "RangeIndex: 8 entries, 0 to 7\n",
      "Data columns (total 5 columns):\n",
      " #   Column      Non-Null Count  Dtype \n",
      "---  ------      --------------  ----- \n",
      " 0   Name        8 non-null      object\n",
      " 1   Born        8 non-null      object\n",
      " 2   Died        8 non-null      object\n",
      " 3   Age         8 non-null      int64 \n",
      " 4   Occupation  8 non-null      object\n",
      "dtypes: int64(1), object(4)\n",
      "memory usage: 448.0+ bytes\n"
     ]
    }
   ],
   "source": [
    "scientists.info()"
   ]
  },
  {
   "cell_type": "code",
   "execution_count": 34,
   "metadata": {},
   "outputs": [
    {
     "data": {
      "text/plain": [
       "0    37\n",
       "1    61\n",
       "2    90\n",
       "3    66\n",
       "4    56\n",
       "5    45\n",
       "6    41\n",
       "7    77\n",
       "Name: Age, dtype: int64"
      ]
     },
     "execution_count": 34,
     "metadata": {},
     "output_type": "execute_result"
    }
   ],
   "source": [
    "ages =scientists['Age']\n",
    "ages"
   ]
  },
  {
   "cell_type": "code",
   "execution_count": 36,
   "metadata": {},
   "outputs": [
    {
     "data": {
      "text/plain": [
       "count     8.000000\n",
       "mean     59.125000\n",
       "std      18.325918\n",
       "min      37.000000\n",
       "25%      44.000000\n",
       "50%      58.500000\n",
       "75%      68.750000\n",
       "max      90.000000\n",
       "Name: Age, dtype: float64"
      ]
     },
     "execution_count": 36,
     "metadata": {},
     "output_type": "execute_result"
    }
   ],
   "source": [
    "ages.describe()"
   ]
  },
  {
   "cell_type": "code",
   "execution_count": 37,
   "metadata": {},
   "outputs": [
    {
     "data": {
      "text/plain": [
       "1    61\n",
       "2    90\n",
       "3    66\n",
       "7    77\n",
       "Name: Age, dtype: int64"
      ]
     },
     "execution_count": 37,
     "metadata": {},
     "output_type": "execute_result"
    }
   ],
   "source": [
    "ages[ages>ages.mean()]"
   ]
  },
  {
   "cell_type": "code",
   "execution_count": 38,
   "metadata": {},
   "outputs": [
    {
     "data": {
      "text/plain": [
       "0    False\n",
       "1     True\n",
       "2     True\n",
       "3     True\n",
       "4    False\n",
       "5    False\n",
       "6    False\n",
       "7     True\n",
       "Name: Age, dtype: bool"
      ]
     },
     "execution_count": 38,
     "metadata": {},
     "output_type": "execute_result"
    }
   ],
   "source": [
    "ages>ages.mean()"
   ]
  },
  {
   "cell_type": "code",
   "execution_count": 39,
   "metadata": {},
   "outputs": [
    {
     "data": {
      "text/plain": [
       "0     74\n",
       "1    122\n",
       "2    180\n",
       "3    132\n",
       "4    112\n",
       "5     90\n",
       "6     82\n",
       "7    154\n",
       "Name: Age, dtype: int64"
      ]
     },
     "execution_count": 39,
     "metadata": {},
     "output_type": "execute_result"
    }
   ],
   "source": [
    "ages + ages"
   ]
  },
  {
   "cell_type": "code",
   "execution_count": 40,
   "metadata": {},
   "outputs": [
    {
     "data": {
      "text/plain": [
       "0    1369\n",
       "1    3721\n",
       "2    8100\n",
       "3    4356\n",
       "4    3136\n",
       "5    2025\n",
       "6    1681\n",
       "7    5929\n",
       "Name: Age, dtype: int64"
      ]
     },
     "execution_count": 40,
     "metadata": {},
     "output_type": "execute_result"
    }
   ],
   "source": [
    "ages * ages"
   ]
  },
  {
   "cell_type": "code",
   "execution_count": 41,
   "metadata": {},
   "outputs": [
    {
     "data": {
      "text/plain": [
       "0    137\n",
       "1    161\n",
       "2    190\n",
       "3    166\n",
       "4    156\n",
       "5    145\n",
       "6    141\n",
       "7    177\n",
       "Name: Age, dtype: int64"
      ]
     },
     "execution_count": 41,
     "metadata": {},
     "output_type": "execute_result"
    }
   ],
   "source": [
    "ages + 100"
   ]
  },
  {
   "cell_type": "code",
   "execution_count": 42,
   "metadata": {},
   "outputs": [
    {
     "data": {
      "text/plain": [
       "0     38.0\n",
       "1    161.0\n",
       "2      NaN\n",
       "3      NaN\n",
       "4      NaN\n",
       "5      NaN\n",
       "6      NaN\n",
       "7      NaN\n",
       "dtype: float64"
      ]
     },
     "execution_count": 42,
     "metadata": {},
     "output_type": "execute_result"
    }
   ],
   "source": [
    "ages + pd.Series([1, 100])"
   ]
  },
  {
   "cell_type": "code",
   "execution_count": 45,
   "metadata": {},
   "outputs": [],
   "source": [
    "import numpy as np\n",
    "\n",
    "# ages + pd.array([1, 100])\n",
    "# This causes Error"
   ]
  },
  {
   "cell_type": "markdown",
   "metadata": {},
   "source": [
    "#### Alignment"
   ]
  },
  {
   "cell_type": "code",
   "execution_count": 47,
   "metadata": {},
   "outputs": [
    {
     "data": {
      "text/plain": [
       "7    77\n",
       "6    41\n",
       "5    45\n",
       "4    56\n",
       "3    66\n",
       "2    90\n",
       "1    61\n",
       "0    37\n",
       "Name: Age, dtype: int64"
      ]
     },
     "execution_count": 47,
     "metadata": {},
     "output_type": "execute_result"
    }
   ],
   "source": [
    "rev_ages = ages.sort_index(ascending=False)\n",
    "rev_ages"
   ]
  },
  {
   "cell_type": "markdown",
   "metadata": {},
   "source": [
    "## The DataFrame"
   ]
  },
  {
   "cell_type": "markdown",
   "metadata": {},
   "source": [
    "#### Boolean subsetting"
   ]
  },
  {
   "cell_type": "code",
   "execution_count": null,
   "metadata": {},
   "outputs": [],
   "source": []
  }
 ],
 "metadata": {
  "kernelspec": {
   "display_name": "Python 3",
   "language": "python",
   "name": "python3"
  },
  "language_info": {
   "codemirror_mode": {
    "name": "ipython",
    "version": 3
   },
   "file_extension": ".py",
   "mimetype": "text/x-python",
   "name": "python",
   "nbconvert_exporter": "python",
   "pygments_lexer": "ipython3",
   "version": "3.8.3"
  }
 },
 "nbformat": 4,
 "nbformat_minor": 4
}
